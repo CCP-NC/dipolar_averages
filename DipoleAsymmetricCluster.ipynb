{
 "cells": [
  {
   "cell_type": "code",
   "execution_count": 2,
   "metadata": {},
   "outputs": [],
   "source": [
    "%matplotlib notebook"
   ]
  },
  {
   "cell_type": "code",
   "execution_count": 3,
   "metadata": {},
   "outputs": [],
   "source": [
    "import numpy as np\n",
    "import matplotlib.pyplot as plt\n",
    "\n",
    "from ase import Atoms, io\n",
    "from ase.build import molecule, make_supercell\n",
    "from ase.quaternions import Quaternion\n",
    "from muspinsim.spinsys import SpinSystem, MuonSpinSystem\n",
    "from muspinsim.spinop import DensityOperator\n",
    "from muspinsim.experiment import MuonExperiment\n",
    "from muspinsim.constants import MU_GAMMA\n",
    "from soprano.selection import AtomSelection\n",
    "from soprano.properties.linkage import Molecules\n",
    "from soprano.properties.transform import Rotate\n",
    "from soprano.nmr.utils import _dip_constant, _dip_tensor\n",
    "from soprano.nmr.tensor import NMRTensor\n",
    "from soprano.calculate.powder import ZCW, SHREWD\n",
    "from soprano.calculate.dipolar.randsums import _scalar_sum_distribution\n",
    "from soprano.data.nmr import (_get_isotope_data, _get_nmr_data, _el_iso)\n",
    "from soprano.utils import periodic_bridson, minimum_periodic, minimum_supcell, supcell_gridgen\n",
    "from soprano.properties.nmr.dipolar import DipolarRSS, DipolarTensor, DipolarCoupling\n",
    "from scipy.interpolate import interp1d"
   ]
  },
  {
   "cell_type": "markdown",
   "metadata": {},
   "source": [
    "$$\n",
    "\\begin{align}\n",
    "H_{jk} = &D_{jk}(\\hat{z}\\otimes\\hat{z})-\\frac{D_{jk}}{2}(1+\\eta)(\\hat{x}\\otimes\\hat{x})-\\frac{D_{jk}}{2}(1-\\eta)(\\hat{y}\\otimes\\hat{y}) \\\\\n",
    "= &D_{jk}(\\hat{z}\\otimes\\hat{z})-\\frac{D_{jk}}{2}(\\mathbb{I}-\\hat{z}\\otimes\\hat{z})+\\frac{D_{jk}}{2}\\eta(\\hat{y}\\otimes\\hat{y}-\\hat{x}\\otimes\\hat{x}) \\\\\n",
    "= &\\frac{3}{2}D_{jk}(1+\\frac{\\eta}{3})(\\hat{z}\\otimes\\hat{z}) -\\frac{D_{jk}}{2}(1+\\eta)\\mathbb{I} +D\\eta\\hat{y}\\otimes\\hat{y}\n",
    "\\end{align}\n",
    "$$\n",
    "\n",
    "$$\n",
    "$$"
   ]
  },
  {
   "cell_type": "markdown",
   "metadata": {},
   "source": [
    "Taking only the secular terms:\n",
    "\n",
    "$$\n",
    "\\begin{align}\n",
    "\\mathbf{S}_j(\\hat{z}\\otimes\\hat{z})\\mathbf{S}_k \\approx &\\alpha_z^2S_j^{x}S_k^{x}+\\beta_z^2S_j^{y}S_k^{y}+\\gamma_z^2S_j^{z}S_k^{z} \\\\\n",
    "= &\\gamma_z^2 S_j^{z}S_k^{z} + \\frac{\\alpha_z^2}{4}(S_j^{+}+S_j^{-})(S_k^{+}+S_k^{-})-\\frac{\\beta_z^2}{4}(S_j^{+}-S_j^{-})(S_k^{+}-S_k^{-}) \\\\\n",
    "\\approx & \\gamma_z^2 S_j^{z}S_k^{z}+ \\frac{1}{4}(\\alpha_z^2+\\beta_z^2)(S_j^{+}S_k^{-}+S_j^{-}S_k^{+}) \\\\\n",
    "= & \\gamma_z^2 S_j^{z}S_k^{z}+ \\frac{1}{2}(1-\\gamma_z^2)(\\mathbf{S}_j\\mathbf{S}_k-S_j^{z}S_k^{z}) \\\\\n",
    "\\approx & (\\frac{3}{2}\\gamma_z^2-1)S_j^{z}S_k^{z}\n",
    "\\end{align} \n",
    "$$\n",
    "\n",
    "The last line is possible because we know that $\\mathbf{S}_j\\mathbf{S}_k$ commutes with the operators we care about and so there's no need to retain it."
   ]
  },
  {
   "cell_type": "markdown",
   "metadata": {},
   "source": [
    "$$\n",
    "B_{jk} = \\frac{3}{2}D_{jk}\\left(1+\\frac{\\eta}{3}\\right)\\left[\\frac{3}{2}\\gamma_{jk}^2-\\frac{1}{2}\\right]+D_{jk}\\eta\\left[\\frac{3}{2}\\beta_{jk}^2-\\frac{1}{2}\\right]\n",
    "$$\n",
    "\n",
    "The square:\n",
    "\n",
    "$$\n",
    "B_{jk}^2 = \\frac{9}{4}D_{jk}^2\\left(1+\\frac{\\eta}{3}\\right)^2\\left[\\frac{9}{4}\\gamma_{jk}^4-\\frac{3}{2}\\gamma_{jk}^2+\\frac{1}{4}\\right]+D_{jk}^2\\eta^2\\left[\\frac{9}{4}\\beta_{jk}^4-\\frac{3}{2}\\beta_{jk}^2+\\frac{1}{4}\\right]+3D_{jk}^2\\left(1+\\frac{\\eta}{3}\\right)\\eta\\left[\\frac{9}{4}\\gamma_{jk}^2\\beta_{jk}^2-\\frac{3}{4}\\gamma_{jk}^2-\\frac{3}{4}\\beta_{jk}^2+\\frac{1}{4}\\right]\n",
    "$$"
   ]
  },
  {
   "cell_type": "markdown",
   "metadata": {},
   "source": [
    "Averaged over all directions this becomes:\n",
    "\n",
    "$$\n",
    "\\left<B_{jk}^2\\right> = \\frac{9}{20}D_{jk}^2\\left(1+\\frac{\\eta}{3}\\right)^2+\\frac{1}{5}D_{jk}^2\\eta^2-\\frac{3}{10}D_{jk}^2\\left(1+\\frac{\\eta}{3}\\right)\\eta\n",
    "$$"
   ]
  },
  {
   "cell_type": "code",
   "execution_count": 4,
   "metadata": {},
   "outputs": [],
   "source": [
    "# The model system will be a octahedral hydrogen cluster\n",
    "\n",
    "pos = np.array(np.meshgrid(*[[-1,0,1]]*3)).reshape((3,-1)).T\n",
    "pos = pos[np.where(np.linalg.norm(pos, axis=1) == 1)]*0.5\n",
    "\n",
    "a = Atoms('H'*len(pos), positions=pos, cell=np.eye(3)*10)\n",
    "# rot = Rotate(quaternion=Quaternion.from_axis_angle([0,1,0.5], 1.3))\n",
    "# a = rot(a)\n",
    "assert(len(Molecules.get(a)) == 1)\n",
    "io.write('clusterH.cif', a)"
   ]
  },
  {
   "cell_type": "code",
   "execution_count": 5,
   "metadata": {},
   "outputs": [],
   "source": [
    "# Add disorder\n",
    "s = 0.05\n",
    "n = 3\n",
    "disorder = np.random.normal(scale=s, size=(len(a),n,3))\n",
    "a.set_array('disorder', disorder)"
   ]
  },
  {
   "cell_type": "code",
   "execution_count": 6,
   "metadata": {},
   "outputs": [],
   "source": [
    "def get_average_diptens(p0, p1, g0, g1):\n",
    "    # p0 and p1 are a list of positions\n",
    "    p0 = np.array(p0)\n",
    "    p1 = np.array(p1)\n",
    "    \n",
    "    r = p1[:,None,:]-p0[None,:,:]\n",
    "    rnorm = np.linalg.norm(r, axis=-1)\n",
    "    r /= rnorm[:,:,None]\n",
    "    d = _dip_constant(rnorm*1e-10, g0, g1)\n",
    "\n",
    "    D = d[:,:,None,None]*(3*r[:, :, None, :]*r[:, :, :, None]-np.eye(3)[None,None])\n",
    "    D = np.average(D, axis=(0,1))\n",
    "    return D"
   ]
  },
  {
   "cell_type": "code",
   "execution_count": 7,
   "metadata": {},
   "outputs": [],
   "source": [
    "gH = _get_isotope_data('H', 'gamma')\n",
    "D = get_average_diptens([[0,0,0],[0,0.1,0]], [[1,0,0]], gH, gH)\n",
    "D = NMRTensor(D, order=NMRTensor.ORDER_HAEBERLEN)"
   ]
  },
  {
   "cell_type": "code",
   "execution_count": 14,
   "metadata": {},
   "outputs": [],
   "source": [
    "class VanVleckDisordered(object):\n",
    "    \n",
    "    def __init__(self, atoms):\n",
    "        self.atoms = atoms\n",
    "        #self.Dc = DipolarCoupling.get(atoms)\n",
    "        n = len(atoms)\n",
    "        pairs = [(i,j) for i in range(n) for j in range(i+1,n)]\n",
    "        gammas = _get_isotope_data(atoms.get_chemical_symbols(), 'gamma')\n",
    "        positions = atoms.get_positions()\n",
    "        disorder = atoms.get_array('disorder')\n",
    "        posd = positions[:,None,:] + disorder\n",
    "        self.D = {}\n",
    "        self.Dc = {}\n",
    "        for k in pairs:\n",
    "            i, j = k\n",
    "            D = get_average_diptens(posd[i], posd[j], gammas[i], gammas[j])*1e-3\n",
    "            D = NMRTensor(D, order=NMRTensor.ORDER_HAEBERLEN)            \n",
    "            self.D[k] = D\n",
    "            # Now the important eigenvalues\n",
    "            d = D.eigenvalues[2]\n",
    "            eta = D.asymmetry\n",
    "            z = D.eigenvectors[:,2]\n",
    "            y = D.eigenvectors[:,1]\n",
    "            self.Dc[k] = (d, z, eta, y)\n",
    "        \n",
    "        # Calculate all Bjks\n",
    "        self.Bvals = [[0 if i == j else self.Bjk(i,j) for j in range(len(atoms))] for i in range(len(atoms))]\n",
    "        self.Bvals = np.array(self.Bvals)\n",
    "        \n",
    "        self.I = _get_isotope_data(self.atoms.get_chemical_symbols(), 'I')\n",
    "    \n",
    "    # Here following the nomenclature from Van Vleck's paper    \n",
    "    def Bjk(self, j, k, axis=[0,0,1]):\n",
    "        axis = np.array(axis).astype(float)\n",
    "        axis /= np.linalg.norm(axis)\n",
    "\n",
    "        jk = tuple(sorted([j, k]))        \n",
    "        Dc = self.Dc[jk]\n",
    "        ct = np.dot(axis, Dc[1])\n",
    "        cp = np.dot(axis, Dc[3])\n",
    "        \n",
    "        return Dc[0]*(1.5*(1+Dc[2]/3)*(3*ct**2-1)/2+Dc[2]*(3*cp**2-1)/2.0)\n",
    "\n",
    "    def std2_single(self, axis=[0,0,1]):\n",
    "        I = self.I\n",
    "        B = [[0 if i == j else self.Bjk(i,j, axis) for j in range(len(I))] for i in range(len(I))]\n",
    "        B = np.array(B)\n",
    "        return np.sum(I[:,None]*(I[None,:]+1.0)*B**2/3.0)/len(I)\n",
    "    \n",
    "    def std2_powder(self):\n",
    "        I = self.I\n",
    "        n = len(I)\n",
    "        B2 = np.zeros((n,n))\n",
    "        for i in range(n):\n",
    "            for j in range(n):\n",
    "                if i == j:\n",
    "                    continue\n",
    "                Dc = self.Dc[tuple(sorted((i,j)))]\n",
    "                d, eta = Dc[0], Dc[2]\n",
    "                B2[i,j] = d**2*(9/4+3/4*eta**2)\n",
    "                \n",
    "        return np.sum(I[:,None]*(I[None,:]+1.0)*B2/15.0)/len(I)\n",
    "    \n",
    "    def dipfreqs(self, B=[0,0,1]):\n",
    "        \n",
    "        B = np.array(B)\n",
    "        atoms = self.atoms\n",
    "        ssys = SpinSystem(atoms.get_chemical_symbols())\n",
    "        \n",
    "        for i in range(len(atoms)):\n",
    "            ssys.add_linear_term(i, B*ssys.gamma(i)*1e3)\n",
    "            for j in range(i+1, len(ssys)):\n",
    "                ssys.add_bilinear_term(i, j, self.D[(i,j)].data)\n",
    "                \n",
    "        H = ssys.hamiltonian\n",
    "        Sxtot = sum([ssys.operator({i: 'x'}) for i in range(len(ssys))], 0*ssys.operator({}))\n",
    "        evals, evecs = H.diag()\n",
    "        Sxdiag = Sxtot.basis_change(evecs)\n",
    "\n",
    "        freqs = (evals[:,None]-evals[None,:]).reshape((-1,))\n",
    "        weights = np.abs(Sxdiag.matrix.T.reshape((-1,)))\n",
    "\n",
    "        # Central frequency?\n",
    "        larmor = np.linalg.norm(B)*ssys.gamma(0)*1e3\n",
    "        # Which ones are close enough?\n",
    "        peak_inds = np.where((abs(freqs-larmor) < 0.5*larmor)*(1-np.isclose(weights, 0)))\n",
    "        \n",
    "        return (freqs[peak_inds]-larmor), weights[peak_inds]"
   ]
  },
  {
   "cell_type": "code",
   "execution_count": 15,
   "metadata": {
    "scrolled": false
   },
   "outputs": [
    {
     "name": "stdout",
     "output_type": "stream",
     "text": [
      "448.9132444963204\n",
      "448.9802129801245\n"
     ]
    }
   ],
   "source": [
    "vvleck = VanVleckDisordered(a)\n",
    "freqs, weights = vvleck.dipfreqs()\n",
    "sigma = (vvleck.std2_single()**0.5)\n",
    "sigmafreq = (np.sum(weights**2*freqs**2)/np.sum(weights**2))**0.5\n",
    "\n",
    "print(sigma)\n",
    "print(sigmafreq)"
   ]
  },
  {
   "cell_type": "code",
   "execution_count": 16,
   "metadata": {},
   "outputs": [
    {
     "name": "stdout",
     "output_type": "stream",
     "text": [
      "500.99114755088885\n",
      "501.0207115070033\n",
      "499.6272631756669\n"
     ]
    }
   ],
   "source": [
    "# Powder version?\n",
    "\n",
    "pwd = ZCW('sphere')\n",
    "orients, weights = pwd.get_orient_points(100)\n",
    "\n",
    "sigmapwd = vvleck.std2_powder()**0.5\n",
    "sigmaorient = np.average([vvleck.std2_single(p) for p in orients], weights=weights)**0.5\n",
    "\n",
    "\n",
    "orientfreqs = np.array([])\n",
    "orientweights = np.array([])\n",
    "\n",
    "for o, w in zip(orients, weights):\n",
    "   ofreqs, oweights = vvleck.dipfreqs(5.0*o)\n",
    "   orientfreqs = np.concatenate([orientfreqs, ofreqs])\n",
    "   orientweights = np.concatenate([orientweights, oweights*w])\n",
    "\n",
    "\n",
    "sigmaorientfreq = (np.sum(orientweights**2*orientfreqs**2)/np.sum(orientweights**2))**0.5\n",
    "\n",
    "print(sigmapwd)\n",
    "print(sigmaorient)\n",
    "print(sigmaorientfreq)"
   ]
  },
  {
   "cell_type": "code",
   "execution_count": 258,
   "metadata": {},
   "outputs": [
    {
     "data": {
      "text/plain": [
       "509.62645715726273"
      ]
     },
     "execution_count": 258,
     "metadata": {},
     "output_type": "execute_result"
    }
   ],
   "source": [
    "vvleck.Bjk(0,1)"
   ]
  },
  {
   "cell_type": "code",
   "execution_count": null,
   "metadata": {},
   "outputs": [],
   "source": []
  }
 ],
 "metadata": {
  "kernelspec": {
   "display_name": "Python 3",
   "language": "python",
   "name": "python3"
  },
  "language_info": {
   "codemirror_mode": {
    "name": "ipython",
    "version": 3
   },
   "file_extension": ".py",
   "mimetype": "text/x-python",
   "name": "python",
   "nbconvert_exporter": "python",
   "pygments_lexer": "ipython3",
   "version": "3.7.6"
  }
 },
 "nbformat": 4,
 "nbformat_minor": 4
}
