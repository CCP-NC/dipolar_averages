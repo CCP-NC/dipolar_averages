{
 "cells": [
  {
   "cell_type": "code",
   "execution_count": 1,
   "metadata": {},
   "outputs": [],
   "source": [
    "%matplotlib notebook"
   ]
  },
  {
   "cell_type": "code",
   "execution_count": 132,
   "metadata": {},
   "outputs": [],
   "source": [
    "import numpy as np\n",
    "import matplotlib.pyplot as plt\n",
    "from soprano.nmr.utils import _dip_tensor"
   ]
  },
  {
   "cell_type": "markdown",
   "metadata": {},
   "source": [
    "$$\n",
    "R_u(\\theta)\\mathbf{r} = \\mathbf{u}(\\mathbf{u}\\cdot\\mathbf{r}) + \\cos(\\theta)(\\mathbf{u}\\times\\mathbf{r})\\times\\mathbf{u} + \\sin(\\theta)(\\mathbf{u}\\times\\mathbf{r})\n",
    "$$"
   ]
  },
  {
   "cell_type": "markdown",
   "metadata": {},
   "source": [
    "$$\n",
    "\\begin{split}\n",
    "\\langle (R_u(\\theta)\\mathbf{r})\\otimes(R_u(\\theta)\\mathbf{r}) \\rangle = &(\\mathbf{u}\\otimes\\mathbf{u})(\\mathbf{u}\\cdot\\mathbf{r})^2 + \\frac{1}{2}[(\\mathbf{u}\\times\\mathbf{r})\\times\\mathbf{u}]\\otimes[(\\mathbf{u}\\times\\mathbf{r})\\times\\mathbf{u}] + \\frac{1}{2}(\\mathbf{u}\\times\\mathbf{r})\\otimes (\\mathbf{u}\\times\\mathbf{r}) = \\\\\n",
    "&(\\mathbf{u}\\otimes\\mathbf{u})(\\mathbf{u}\\cdot\\mathbf{r})^2 + \\frac{1}{2}[\\mathbf{r}-(\\mathbf{u}\\cdot\\mathbf{r})\\mathbf{u}]\\otimes[\\mathbf{r}-(\\mathbf{u}\\cdot\\mathbf{r})\\mathbf{u}] + \\frac{1}{2}(\\mathbf{u}\\times\\mathbf{r})\\otimes (\\mathbf{u}\\times\\mathbf{r}) = \\\\\n",
    "&\\frac{3}{2}(\\mathbf{u}\\otimes\\mathbf{u})(\\mathbf{u}\\cdot\\mathbf{r})^2 + \\frac{1}{2}\\mathbf{r}\\otimes\\mathbf{r}-\\frac{1}{2}(\\mathbf{u}\\cdot\\mathbf{r})(\\mathbf{r}\\otimes\\mathbf{u}+\\mathbf{u}\\otimes\\mathbf{r})\n",
    " + \\frac{1}{2}(\\mathbf{u}\\times\\mathbf{r})\\otimes (\\mathbf{u}\\times\\mathbf{r}) = \n",
    "\\end{split}\n",
    "$$"
   ]
  },
  {
   "cell_type": "code",
   "execution_count": 163,
   "metadata": {},
   "outputs": [
    {
     "data": {
      "text/plain": [
       "array([[ 0.45 ,  0.   ,  0.   ],\n",
       "       [ 0.   ,  0.275, -0.175],\n",
       "       [ 0.   , -0.175,  0.275]])"
      ]
     },
     "execution_count": 163,
     "metadata": {},
     "output_type": "execute_result"
    }
   ],
   "source": [
    "0.5*(3*ur**2-1)*makeouter(u)+0.5*(1-ur**2)*np.eye(3)"
   ]
  },
  {
   "cell_type": "code",
   "execution_count": 189,
   "metadata": {},
   "outputs": [
    {
     "data": {
      "text/plain": [
       "(array([-3.21115865e-19,  1.41989037e-17,  1.09090909e-01]),\n",
       " array([[-0.98136037, -0.14758152,  0.12309149],\n",
       "        [-0.06872714,  0.86767064,  0.49236596],\n",
       "        [-0.17946699,  0.47472872, -0.86164044]]))"
      ]
     },
     "execution_count": 189,
     "metadata": {},
     "output_type": "execute_result"
    }
   ],
   "source": [
    "r_par = (r@u)*u\n",
    "r_ortho = r-r_par\n",
    "np.linalg.eigh(makeouter(r_ortho))"
   ]
  },
  {
   "cell_type": "code",
   "execution_count": 191,
   "metadata": {},
   "outputs": [
    {
     "data": {
      "text/plain": [
       "(array([-1.94289029e-16,  1.00000000e+00,  1.00000000e+00]),\n",
       " array([[ 0.90453403, -0.34896553, -0.24503315],\n",
       "        [ 0.30151134,  0.92978979, -0.21114414],\n",
       "        [ 0.30151134,  0.11710679,  0.94624358]]))"
      ]
     },
     "execution_count": 191,
     "metadata": {},
     "output_type": "execute_result"
    }
   ],
   "source": [
    "np.linalg.eigh(np.eye(3)-makeouter(u))"
   ]
  },
  {
   "cell_type": "code",
   "execution_count": 200,
   "metadata": {},
   "outputs": [
    {
     "data": {
      "text/plain": [
       "0.011900826446280972"
      ]
     },
     "execution_count": 200,
     "metadata": {},
     "output_type": "execute_result"
    }
   ],
   "source": [
    "r@(makeouter(r)-(u@r)**2*makeouter(u))@r"
   ]
  },
  {
   "cell_type": "code",
   "execution_count": 216,
   "metadata": {},
   "outputs": [
    {
     "data": {
      "text/plain": [
       "array([[ 0.00991736, -0.01487603, -0.01487603],\n",
       "       [-0.01487603,  0.04958678, -0.00495868],\n",
       "       [-0.01487603, -0.00495868,  0.04958678]])"
      ]
     },
     "execution_count": 216,
     "metadata": {},
     "output_type": "execute_result"
    }
   ],
   "source": [
    "np.average([makeouter(R@r_ortho, R@r_ortho) for R in Rs], axis=0)"
   ]
  },
  {
   "cell_type": "code",
   "execution_count": 220,
   "metadata": {},
   "outputs": [
    {
     "data": {
      "text/plain": [
       "array([[ 0.00991736, -0.01487603, -0.01487603],\n",
       "       [-0.01487603,  0.04958678, -0.00495868],\n",
       "       [-0.01487603, -0.00495868,  0.04958678]])"
      ]
     },
     "execution_count": 220,
     "metadata": {},
     "output_type": "execute_result"
    }
   ],
   "source": [
    "(r_ortho@r_ortho)*(np.eye(3)-makeouter(u))/2"
   ]
  },
  {
   "cell_type": "code",
   "execution_count": 190,
   "metadata": {},
   "outputs": [
    {
     "data": {
      "text/plain": [
       "array([[ 0.07107438,  0.15702479, -0.24297521],\n",
       "       [ 0.15702479,  0.11900826, -0.08099174],\n",
       "       [-0.24297521, -0.08099174, -0.08099174]])"
      ]
     },
     "execution_count": 190,
     "metadata": {},
     "output_type": "execute_result"
    }
   ],
   "source": [
    "makeouter(r_ortho)+makeouter(r_ortho, r_par)+makeouter(r_par, r_ortho)"
   ]
  },
  {
   "cell_type": "code",
   "execution_count": 182,
   "metadata": {},
   "outputs": [
    {
     "data": {
      "text/plain": [
       "0.10909090909090909"
      ]
     },
     "execution_count": 182,
     "metadata": {},
     "output_type": "execute_result"
    }
   ],
   "source": [
    "np.linalg.norm(r_ortho)**2"
   ]
  },
  {
   "cell_type": "code",
   "execution_count": 210,
   "metadata": {},
   "outputs": [],
   "source": [
    "def makecross(u):\n",
    "    return np.array([[0, -u[2], u[1]], [u[2], 0, -u[0]], [-u[1], u[0], 0]])\n",
    "\n",
    "def makeouter(a, b=None):\n",
    "    if b is None:\n",
    "        b = a\n",
    "    return a[:,None]*b[None,:]\n",
    "\n",
    "def makerot(u, theta=0):\n",
    "    u = np.array(u)/np.linalg.norm(u)\n",
    "    ct = np.cos(theta)\n",
    "    st = np.sin(theta)\n",
    "    \n",
    "    R = ct*np.eye(3) + st*makecross(u) + (1-ct)*makeouter(u)\n",
    "    \n",
    "    return R\n",
    "\n",
    "def makeavgouter(r, u):\n",
    "    return (0.5*makeouter(r) -\n",
    "            0.5*makecross(u)@makeouter(r)@makecross(u)+\n",
    "            1.5*makeouter(u)*(u@r)**2-\n",
    "            0.5*(u@r)*(makeouter(u,r)+makeouter(r,u)))"
   ]
  },
  {
   "cell_type": "code",
   "execution_count": 211,
   "metadata": {},
   "outputs": [],
   "source": [
    "u = np.array([3,1,1.0])\n",
    "u /= np.linalg.norm(u)\n",
    "r = np.array([1, 0.5, 0])\n",
    "r /= np.linalg.norm(r)\n",
    "\n",
    "rr = makeouter(r)\n",
    "dd = _dip_tensor(1,r)"
   ]
  },
  {
   "cell_type": "code",
   "execution_count": 212,
   "metadata": {},
   "outputs": [
    {
     "name": "stdout",
     "output_type": "stream",
     "text": [
      "[[ 1.21652893  0.68429752  0.68429752]\n",
      " [ 0.68429752 -0.60826446  0.22809917]\n",
      " [ 0.68429752  0.22809917 -0.60826446]]\n",
      "[[ 1.21652893  0.68429752  0.68429752]\n",
      " [ 0.68429752 -0.60826446  0.22809917]\n",
      " [ 0.68429752  0.22809917 -0.60826446]]\n",
      "\n",
      "[[0.73884298 0.22809917 0.22809917]\n",
      " [0.22809917 0.13057851 0.07603306]\n",
      " [0.22809917 0.07603306 0.13057851]]\n",
      "[[0.73884298 0.22809917 0.22809917]\n",
      " [0.22809917 0.13057851 0.07603306]\n",
      " [0.22809917 0.07603306 0.13057851]]\n",
      "[[0.73884298 0.22809917 0.22809917]\n",
      " [0.22809917 0.13057851 0.07603306]\n",
      " [0.22809917 0.07603306 0.13057851]]\n"
     ]
    }
   ],
   "source": [
    "# Numerical average\n",
    "thetas = np.linspace(0, 2*np.pi, 101)[:-1]\n",
    "Rs = [makerot(u, th) for th in thetas]\n",
    "dds = [R.T@dd@R for R in Rs]\n",
    "rs = [R@r for R in Rs]\n",
    "rrs = [R@rr@R.T for R in Rs]\n",
    "\n",
    "print(np.average(dds, axis=0))\n",
    "print(_dip_tensor(1.0, r, u))\n",
    "\n",
    "print()\n",
    "\n",
    "print(np.average(rrs, axis=0))\n",
    "print(makeavgouter(r, u))\n",
    "ur = u@r\n",
    "print(0.5*(3*ur**2-1)*makeouter(u)+0.5*(1-ur**2)*np.eye(3))"
   ]
  },
  {
   "cell_type": "code",
   "execution_count": 136,
   "metadata": {},
   "outputs": [
    {
     "data": {
      "text/plain": [
       "array([[ 0.45 ,  0.   ,  0.   ],\n",
       "       [ 0.   ,  0.275, -0.175],\n",
       "       [ 0.   , -0.175,  0.275]])"
      ]
     },
     "execution_count": 136,
     "metadata": {},
     "output_type": "execute_result"
    }
   ],
   "source": [
    "# Analytical\n",
    "# vp2 = np.dot(r, a)**2\n",
    "# D = 0.5*d*(3*vp2-1)*(3*a[:, None]*a[None, :]-np.eye(3))\n",
    "\n",
    "ur = u@r\n",
    "\n",
    "0.5*(3*ur**2-1)*makeouter(u)+0.5*(1-ur**2)*np.eye(3)"
   ]
  },
  {
   "cell_type": "code",
   "execution_count": null,
   "metadata": {},
   "outputs": [],
   "source": []
  },
  {
   "cell_type": "code",
   "execution_count": 137,
   "metadata": {},
   "outputs": [
    {
     "data": {
      "text/plain": [
       "array([[ 0.1, -0.2,  0.2],\n",
       "       [-0.2,  0.4, -0.4],\n",
       "       [ 0.2, -0.4,  0.4]])"
      ]
     },
     "execution_count": 137,
     "metadata": {},
     "output_type": "execute_result"
    }
   ],
   "source": [
    "makeouter(np.cross(u,r))"
   ]
  },
  {
   "cell_type": "code",
   "execution_count": 138,
   "metadata": {},
   "outputs": [
    {
     "data": {
      "text/plain": [
       "array([[0.        , 0.63245553, 0.63245553],\n",
       "       [0.63245553, 0.63245553, 0.31622777],\n",
       "       [0.63245553, 0.31622777, 0.        ]])"
      ]
     },
     "execution_count": 138,
     "metadata": {},
     "output_type": "execute_result"
    }
   ],
   "source": [
    "makeouter(u,r)+makeouter(r,u)"
   ]
  },
  {
   "cell_type": "code",
   "execution_count": 142,
   "metadata": {},
   "outputs": [
    {
     "data": {
      "text/plain": [
       "array([[ 0.28284271, -0.56568542,  0.56568542],\n",
       "       [ 0.14142136, -0.28284271,  0.28284271],\n",
       "       [ 0.        ,  0.        ,  0.        ]])"
      ]
     },
     "execution_count": 142,
     "metadata": {},
     "output_type": "execute_result"
    }
   ],
   "source": [
    "makeouter(r)@makecross(u)"
   ]
  },
  {
   "cell_type": "code",
   "execution_count": 143,
   "metadata": {},
   "outputs": [
    {
     "data": {
      "text/plain": [
       "array([[-0.28284271, -0.14142136,  0.        ],\n",
       "       [ 0.56568542,  0.28284271,  0.        ],\n",
       "       [-0.56568542, -0.28284271,  0.        ]])"
      ]
     },
     "execution_count": 143,
     "metadata": {},
     "output_type": "execute_result"
    }
   ],
   "source": [
    "makecross(u)@makeouter(r)"
   ]
  },
  {
   "cell_type": "code",
   "execution_count": 144,
   "metadata": {},
   "outputs": [
    {
     "data": {
      "text/plain": [
       "array([[-1. ,  0. ,  0. ],\n",
       "       [ 0. , -0.5,  0.5],\n",
       "       [ 0. ,  0.5, -0.5]])"
      ]
     },
     "execution_count": 144,
     "metadata": {},
     "output_type": "execute_result"
    }
   ],
   "source": [
    "makecross(u)@makecross(u)"
   ]
  },
  {
   "cell_type": "code",
   "execution_count": 145,
   "metadata": {},
   "outputs": [
    {
     "data": {
      "text/plain": [
       "array([[-1. ,  0. ,  0. ],\n",
       "       [ 0. , -0.5,  0.5],\n",
       "       [ 0. ,  0.5, -0.5]])"
      ]
     },
     "execution_count": 145,
     "metadata": {},
     "output_type": "execute_result"
    }
   ],
   "source": [
    "makeouter(u)-np.eye(3)"
   ]
  },
  {
   "cell_type": "code",
   "execution_count": 146,
   "metadata": {},
   "outputs": [
    {
     "data": {
      "text/plain": [
       "array([[ 0.1, -0.2,  0.2],\n",
       "       [-0.2,  0.4, -0.4],\n",
       "       [ 0.2, -0.4,  0.4]])"
      ]
     },
     "execution_count": 146,
     "metadata": {},
     "output_type": "execute_result"
    }
   ],
   "source": [
    "makecross(u)@makeouter(r)@makecross(u).T"
   ]
  },
  {
   "cell_type": "code",
   "execution_count": null,
   "metadata": {},
   "outputs": [],
   "source": []
  }
 ],
 "metadata": {
  "kernelspec": {
   "display_name": "Python 3",
   "language": "python",
   "name": "python3"
  },
  "language_info": {
   "codemirror_mode": {
    "name": "ipython",
    "version": 3
   },
   "file_extension": ".py",
   "mimetype": "text/x-python",
   "name": "python",
   "nbconvert_exporter": "python",
   "pygments_lexer": "ipython3",
   "version": "3.6.10"
  }
 },
 "nbformat": 4,
 "nbformat_minor": 4
}
